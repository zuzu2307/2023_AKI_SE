{
 "cells": [
  {
   "cell_type": "code",
   "execution_count": 1,
   "id": "306777a1",
   "metadata": {},
   "outputs": [],
   "source": [
    "# データセットの取得\n",
    "from sklearn.datasets import fetch_20newsgroups\n",
    "data = fetch_20newsgroups(subset=\"all\")"
   ]
  },
  {
   "cell_type": "code",
   "execution_count": 2,
   "id": "a7454faa",
   "metadata": {},
   "outputs": [
    {
     "name": "stdout",
     "output_type": "stream",
     "text": [
      "18846 18846\n"
     ]
    }
   ],
   "source": [
    "# テキスト部分とラベル（カテゴリ）の取得\n",
    "Xraw = data.data# テキスト\n",
    "y = data.target# ラベル\n",
    "print(len(Xraw), len(y))\n",
    "#print(Xraw[0], y[0])"
   ]
  },
  {
   "cell_type": "code",
   "execution_count": 3,
   "id": "aea9d6a8",
   "metadata": {},
   "outputs": [],
   "source": [
    "# ベクトル化\n",
    "from sklearn.feature_extraction.text import TfidfVectorizer, CountVectorizer\n",
    "vectorizer = TfidfVectorizer()\n",
    "X = vectorizer.fit_transform(Xraw)# 「fit」で学習「transform」でベクトル化"
   ]
  },
  {
   "cell_type": "code",
   "execution_count": 5,
   "id": "44486901",
   "metadata": {},
   "outputs": [
    {
     "name": "stdout",
     "output_type": "stream",
     "text": [
      "(1, 173762)\n"
     ]
    }
   ],
   "source": [
    "# ベクトル化が行われていることの確認\n",
    "#print(Xraw[0])\n",
    "#print(X[0])# 疎行列の表現として出力される\n",
    "print(X[0].shape)# 行列のサイズを出力"
   ]
  },
  {
   "cell_type": "code",
   "execution_count": 8,
   "id": "50ffe5ae",
   "metadata": {},
   "outputs": [],
   "source": [
    "# k-meansのライブラリを使用する\n",
    "from sklearn.cluster import KMeans\n",
    "km = KMeans(n_clusters=20)# カテゴリ数と同じ数のクラスタを作成\n",
    "y_pred = km.fit_predict(X)# クラスタからラベルを推定"
   ]
  },
  {
   "cell_type": "code",
   "execution_count": 10,
   "id": "656cd674",
   "metadata": {},
   "outputs": [
    {
     "name": "stdout",
     "output_type": "stream",
     "text": [
      "[ 8  6  9  3 18 18  6  8  8  6  0 18  9  6 18 18 10 18  9  9]\n",
      "[10  3 17  3  4 12  4 10 10 19 19 11 19 13  0 17 12 12 11  8]\n"
     ]
    }
   ],
   "source": [
    "# 推定されたラベルと正解との比較\n",
    "print(y_pred[:20])\n",
    "print(y[:20])\n",
    "### 推定はクラスタの区別のみで、ラベル名は推定していない\n",
    "### 課題7では上を考慮してクラスタリングの精度を定義する"
   ]
  },
  {
   "cell_type": "code",
   "execution_count": 24,
   "id": "4ad5d529",
   "metadata": {},
   "outputs": [],
   "source": [
    "# 階層的クラスタリングのライブラリを使用する\n",
    "from sklearn.cluster import AgglomerativeClustering\n",
    "model = AgglomerativeClustering(\n",
    "    n_clusters=20,# クラスタの数\n",
    "    linkage=\"complete\"# クラスタ間の近さ\n",
    ")\n",
    "clustering = model.fit(X[:1000].toarray())# NumPyの配列の形式に変換（実験用に一部のデータのみ）"
   ]
  },
  {
   "cell_type": "code",
   "execution_count": 26,
   "id": "49210a66",
   "metadata": {},
   "outputs": [
    {
     "name": "stdout",
     "output_type": "stream",
     "text": [
      "[6 0 3 4 0 8 1 3 4 4 8 9 3 1 6 3 4 3 3 3]\n"
     ]
    }
   ],
   "source": [
    "# クラスタリングによって推定されたラベル\n",
    "print(clustering.labels_[:20])"
   ]
  },
  {
   "cell_type": "code",
   "execution_count": null,
   "id": "d9a88b22",
   "metadata": {},
   "outputs": [],
   "source": []
  }
 ],
 "metadata": {
  "kernelspec": {
   "display_name": "Python 3 (ipykernel)",
   "language": "python",
   "name": "python3"
  },
  "language_info": {
   "codemirror_mode": {
    "name": "ipython",
    "version": 3
   },
   "file_extension": ".py",
   "mimetype": "text/x-python",
   "name": "python",
   "nbconvert_exporter": "python",
   "pygments_lexer": "ipython3",
   "version": "3.9.12"
  }
 },
 "nbformat": 4,
 "nbformat_minor": 5
}
