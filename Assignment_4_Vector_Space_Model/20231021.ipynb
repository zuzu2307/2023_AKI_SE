{
 "cells": [
  {
   "cell_type": "code",
   "execution_count": 1,
   "id": "306777a1",
   "metadata": {},
   "outputs": [],
   "source": [
    "# データセットの取得\n",
    "from sklearn.datasets import fetch_20newsgroups\n",
    "data = fetch_20newsgroups(subset=\"all\")"
   ]
  },
  {
   "cell_type": "code",
   "execution_count": 5,
   "id": "a7454faa",
   "metadata": {},
   "outputs": [
    {
     "name": "stdout",
     "output_type": "stream",
     "text": [
      "18846 18846\n"
     ]
    }
   ],
   "source": [
    "# テキスト部分とラベル（カテゴリ）の取得\n",
    "Xraw = data.data# テキスト\n",
    "y = data.target# ラベル\n",
    "print(len(Xraw), len(y))\n",
    "#print(Xraw[0], y[0])"
   ]
  },
  {
   "cell_type": "code",
   "execution_count": 7,
   "id": "70fd4f45",
   "metadata": {},
   "outputs": [
    {
     "name": "stdout",
     "output_type": "stream",
     "text": [
      "18000 18000 846 846\n"
     ]
    }
   ],
   "source": [
    "# 訓練データ（検索対象文書）とテストデータ（問い合わせ文書）に分割\n",
    "Xraw_train = Xraw[:18000]; y_train = y[:18000] \n",
    "Xraw_test = Xraw[18000:]; y_test = y[18000:]\n",
    "print(len(Xraw_train), len(y_train), len(Xraw_test), len(y_test))"
   ]
  },
  {
   "cell_type": "code",
   "execution_count": 9,
   "id": "aea9d6a8",
   "metadata": {},
   "outputs": [],
   "source": [
    "# ベクトル化の定義と学習\n",
    "from sklearn.feature_extraction.text import CountVectorizer\n",
    "vectorizer = CountVectorizer()\n",
    "X_train = vectorizer.fit_transform(Xraw_train)# 「fit」で学習「transform」でベクトル化"
   ]
  },
  {
   "cell_type": "code",
   "execution_count": 11,
   "id": "44486901",
   "metadata": {},
   "outputs": [
    {
     "name": "stdout",
     "output_type": "stream",
     "text": [
      "From: Mamatha Devineni Ratnam <mr47+@andrew.cmu.edu>\n",
      "Subject: Pens fans reactions\n",
      "Organization: Post Office, Carnegie Mellon, Pittsburgh, PA\n",
      "Lines: 12\n",
      "NNTP-Posting-Host: po4.andrew.cmu.edu\n",
      "\n",
      "\n",
      "\n",
      "I am sure some bashers of Pens fans are pretty confused about the lack\n",
      "of any kind of posts about the recent Pens massacre of the Devils. Actually,\n",
      "I am  bit puzzled too and a bit relieved. However, I am going to put an end\n",
      "to non-PIttsburghers' relief with a bit of praise for the Pens. Man, they\n",
      "are killing those Devils worse than I thought. Jagr just showed you why\n",
      "he is much better than his regular season stats. He is also a lot\n",
      "fo fun to watch in the playoffs. Bowman should let JAgr have a lot of\n",
      "fun in the next couple of games since the Pens are going to beat the pulp out of Jersey anyway. I was very disappointed not to see the Islanders lose the final\n",
      "regular season game.          PENS RULE!!!\n",
      "\n",
      "\n",
      "  (0, 74336)\t1\n",
      "  (0, 102924)\t1\n",
      "  (0, 61420)\t1\n",
      "  (0, 128669)\t1\n",
      "  (0, 109261)\t1\n",
      "  (0, 37819)\t2\n",
      "  (0, 53744)\t2\n",
      "  (0, 66190)\t2\n",
      "  (0, 143681)\t1\n",
      "  (0, 120416)\t6\n",
      "  (0, 71084)\t2\n",
      "  (0, 129111)\t1\n",
      "  (0, 117169)\t1\n",
      "  (0, 123229)\t1\n",
      "  (0, 115921)\t1\n",
      "  (0, 50354)\t1\n",
      "  (0, 105213)\t1\n",
      "  (0, 121916)\t1\n",
      "  (0, 118735)\t1\n",
      "  (0, 98806)\t1\n",
      "  (0, 4531)\t1\n",
      "  (0, 113627)\t1\n",
      "  (0, 123261)\t1\n",
      "  (0, 83517)\t1\n",
      "  (0, 122647)\t1\n",
      "  :\t:\n",
      "  (0, 86766)\t2\n",
      "  (0, 122268)\t1\n",
      "  (0, 45997)\t1\n",
      "  (0, 138275)\t1\n",
      "  (0, 98022)\t1\n",
      "  (0, 81146)\t1\n",
      "  (0, 112816)\t1\n",
      "  (0, 56545)\t1\n",
      "  (0, 75758)\t1\n",
      "  (0, 138937)\t1\n",
      "  (0, 43144)\t1\n",
      "  (0, 125496)\t1\n",
      "  (0, 117679)\t1\n",
      "  (0, 90937)\t1\n",
      "  (0, 38393)\t1\n",
      "  (0, 159050)\t1\n",
      "  (0, 156455)\t1\n",
      "  (0, 62276)\t1\n",
      "  (0, 114049)\t1\n",
      "  (0, 136778)\t1\n",
      "  (0, 89265)\t1\n",
      "  (0, 99778)\t1\n",
      "  (0, 72353)\t1\n",
      "  (0, 75742)\t1\n",
      "  (0, 133749)\t1\n",
      "(1, 168090)\n"
     ]
    }
   ],
   "source": [
    "# ベクトル化が行われていることの確認\n",
    "print(Xraw_train[0])\n",
    "print(X_train[0])# 疎行列の表現として出力される\n",
    "print(X_train[0].shape)# 行列のサイズを出力"
   ]
  },
  {
   "cell_type": "code",
   "execution_count": 12,
   "id": "3cf39d76",
   "metadata": {},
   "outputs": [],
   "source": [
    "X_test = vectorizer.transform(Xraw_test)# 「transform」でベクトル化"
   ]
  },
  {
   "cell_type": "code",
   "execution_count": 20,
   "id": "ce4f610e",
   "metadata": {},
   "outputs": [
    {
     "name": "stdout",
     "output_type": "stream",
     "text": [
      "14 14\n"
     ]
    }
   ],
   "source": [
    "# コサイン類似度のライブラリをインポート\n",
    "from sklearn.metrics.pairwise import cosine_similarity\n",
    "\n",
    "j = 12# クエリーを選択\n",
    "q = X_test[j]\n",
    "maxs = 0; maxe = -1\n",
    "i = 0\n",
    "for t in X_train:\n",
    "    s = cosine_similarity(q, t)\n",
    "    if s >= maxs:\n",
    "        maxs = s\n",
    "        maxe = i\n",
    "    i += 1\n",
    "print(y_test[j], y_train[maxe])# ラベルの比較"
   ]
  },
  {
   "cell_type": "code",
   "execution_count": 25,
   "id": "c696f927",
   "metadata": {},
   "outputs": [],
   "source": [
    "# tfidfの利用\n",
    "from sklearn.feature_extraction.text import TfidfVectorizer\n",
    "vectorizer = TfidfVectorizer()\n",
    "X_train = vectorizer.fit_transform(Xraw_train)# 「fit」で学習「transform」でベクトル化\n",
    "X_test = vectorizer.transform(Xraw_test)# 「transform」でベクトル化"
   ]
  },
  {
   "cell_type": "code",
   "execution_count": 26,
   "id": "2516b690",
   "metadata": {},
   "outputs": [
    {
     "name": "stdout",
     "output_type": "stream",
     "text": [
      "18 18\n"
     ]
    }
   ],
   "source": [
    "# 検索の試行\n",
    "j = 11# クエリーを選択\n",
    "q = X_test[j]\n",
    "maxs = 0; maxe = -1\n",
    "i = 0\n",
    "for t in X_train:\n",
    "    s = cosine_similarity(q, t)\n",
    "    if s >= maxs:\n",
    "        maxs = s\n",
    "        maxe = i\n",
    "    i += 1\n",
    "print(y_test[j], y_train[maxe])# ラベルの比較"
   ]
  },
  {
   "cell_type": "code",
   "execution_count": null,
   "id": "50ffe5ae",
   "metadata": {},
   "outputs": [],
   "source": []
  }
 ],
 "metadata": {
  "kernelspec": {
   "display_name": "Python 3 (ipykernel)",
   "language": "python",
   "name": "python3"
  },
  "language_info": {
   "codemirror_mode": {
    "name": "ipython",
    "version": 3
   },
   "file_extension": ".py",
   "mimetype": "text/x-python",
   "name": "python",
   "nbconvert_exporter": "python",
   "pygments_lexer": "ipython3",
   "version": "3.9.12"
  }
 },
 "nbformat": 4,
 "nbformat_minor": 5
}
